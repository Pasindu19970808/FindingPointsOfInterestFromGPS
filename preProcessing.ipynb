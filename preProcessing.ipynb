{
 "cells": [
  {
   "cell_type": "code",
   "execution_count": null,
   "metadata": {},
   "outputs": [],
   "source": [
    "import os\n",
    "import pandas as pd\n",
    "import numpy as np\n",
    "from pathlib import Path\n",
    "import time\n",
    "from geopandas import GeoDataFrame\n",
    "from utils.basefuncs import preProcessDataFrame\n",
    "from utils.trajectoryClass import Trajectory\n",
    "from utils.uuid import UUIDCollection\n",
    "from utils.stopCollection import stopCollection,ExtractAndOrganizeData\n",
    "from utils.gravityModel import POIgdf,activityMapper,gravityModel\n",
    "from datetime import datetime,timedelta\n",
    "import movingpandas as mpd\n",
    "import warnings\n",
    "import matplotlib.pyplot as plt\n",
    "import seaborn as sns\n",
    "import folium"
   ]
  },
  {
   "cell_type": "code",
   "execution_count": null,
   "metadata": {},
   "outputs": [],
   "source": [
    "warnings.filterwarnings(\"ignore\")"
   ]
  },
  {
   "cell_type": "code",
   "execution_count": null,
   "metadata": {},
   "outputs": [],
   "source": [
    "path = r\"D:\\MSc\\MSBD 5014\\FindingPointsOfInterestFromGPS\"\n",
    "compiled_path = Path(path,\"Configs.xlsx\").resolve()\n",
    "raw_path = Path(r\"D:\\MSc\\MSBD 5014\\Data\",\"rawdata_202212.csv\").resolve()"
   ]
  },
  {
   "cell_type": "code",
   "execution_count": null,
   "metadata": {},
   "outputs": [],
   "source": [
    "df_raw = pd.read_csv(raw_path)"
   ]
  },
  {
   "cell_type": "code",
   "execution_count": null,
   "metadata": {},
   "outputs": [],
   "source": [
    "preprocess = preProcessDataFrame(compiled_path,sheetname='preProcessDataFrame')\n",
    "df = preprocess.processDF()"
   ]
  },
  {
   "cell_type": "code",
   "execution_count": null,
   "metadata": {},
   "outputs": [],
   "source": [
    "to_datetime = lambda x: datetime(year = x['ts_Year'],month = x['ts_Month'],day = x['ts_Day'],hour=x['ts_Hour'],minute = x['ts_Minute'],second = x['ts_Second'])"
   ]
  },
  {
   "cell_type": "code",
   "execution_count": null,
   "metadata": {},
   "outputs": [],
   "source": [
    "df['ts_Index'] = df.apply(to_datetime,axis = 1)"
   ]
  },
  {
   "cell_type": "code",
   "execution_count": null,
   "metadata": {},
   "outputs": [],
   "source": [
    "configs = {\n",
    "    'col_missing_vals' : ['gpstime_Hour',\n",
    "        'gpstime_Minute',\n",
    "        'gpstime_Second',\n",
    "        'gpstime_Day',\n",
    "        'gpstime_Month',\n",
    "        'gpstime_Year',\n",
    "        'gpstime'],\n",
    "    'fill_missing_vals' : [\n",
    "        'ts_Hour',\n",
    "       'ts_Minute', \n",
    "       'ts_Second', \n",
    "       'ts_Day', \n",
    "       'ts_Month', \n",
    "       'ts_Year', \n",
    "       'ts'],\n",
    "    'UUID_Collection':{\n",
    "        'unique_identifier_col' : 'uuid',\n",
    "        'index_col' : 'ts_Index',\n",
    "        'sort_values_col' : 'ts',\n",
    "         'lat_col' : 'latitude',\n",
    "        'long_col' : 'longitude',\n",
    "        'required_cols' : ['gpsacc','lost'],\n",
    "        'min_duration' : timedelta(seconds=30*60),\n",
    "        'max_diameter' : 25,\n",
    "        'min_points' : 200,\n",
    "        'query_amount' : 450,\n",
    "        'plot_map' : False\n",
    "    },\n",
    "    'STOP_Collection':{\n",
    "        'min_distance' : 200,\n",
    "        'stop_point_num' : 200\n",
    "    },\n",
    "    'POIgdf':{\n",
    "        'id_col':'UUID',\n",
    "        'poi_type_col_name' : 'POI Type',\n",
    "        'activity_type_col_name':'Activity Types',\n",
    "        'poi_point_col_name':'POI Point',\n",
    "        'stop_point_lat': 'Stop Point Latitude',\n",
    "        'stop_point_long':'Stop Point Longitude',\n",
    "    },\n",
    "    'activityMapper':{\n",
    "        'file_path' : r\"D:\\MSc\\MSBD 5014\\FindingPointsOfInterestFromGPS\\helper\\POITypes.csv\",\n",
    "    }\n",
    "} "
   ]
  },
  {
   "cell_type": "markdown",
   "metadata": {},
   "source": [
    "Fill in the missing values "
   ]
  },
  {
   "cell_type": "code",
   "execution_count": null,
   "metadata": {},
   "outputs": [],
   "source": [
    "for col,ref in zip(configs['col_missing_vals'],configs['fill_missing_vals']):\n",
    "    df.loc[df[col].isna(),col] =  df.loc[df[col].isna()][ref]\n",
    "df.loc[df['gpsacc'].isna(),'gpsacc'] = df.loc[~df['gpsacc'].isna()]['gpsacc'].median()"
   ]
  },
  {
   "cell_type": "code",
   "execution_count": null,
   "metadata": {},
   "outputs": [],
   "source": [
    "len({k:grp.shape[0] for k,grp in df.groupby('uuid') if grp.shape[0]>200})"
   ]
  },
  {
   "cell_type": "code",
   "execution_count": null,
   "metadata": {},
   "outputs": [],
   "source": [
    "uuid_collection_obj = UUIDCollection(df,**configs['UUID_Collection'])\n",
    "stop_collection_obj = stopCollection(uuid_collection_obj,**configs['STOP_Collection'])\n",
    "queryObj = ExtractAndOrganizeData(stops_of_interest=stop_collection_obj.filtered_stops,radius = 200)\n",
    "poigdf = queryObj.extractAndorganizeData()"
   ]
  },
  {
   "cell_type": "code",
   "execution_count": null,
   "metadata": {},
   "outputs": [],
   "source": [
    "poigdf_obj = POIgdf(poigdf,**configs['POIgdf'])\n",
    "activitymapper_obj = activityMapper(**configs['activityMapper'])\n",
    "poigdf_obj = activitymapper_obj.reset_POI_types(poigdf_obj)\n",
    "poigdf_obj = activitymapper_obj.add_activity_types(poigdf_obj)\n",
    "gravitymodel = gravityModel(activitymapper_obj,poigdf_obj)\n",
    "results = gravitymodel.calculate_probability()"
   ]
  },
  {
   "cell_type": "code",
   "execution_count": null,
   "metadata": {},
   "outputs": [],
   "source": [
    "uuid_collection_obj.complete_traj_stop_df"
   ]
  },
  {
   "cell_type": "code",
   "execution_count": null,
   "metadata": {},
   "outputs": [],
   "source": [
    "results"
   ]
  },
  {
   "cell_type": "code",
   "execution_count": null,
   "metadata": {},
   "outputs": [],
   "source": [
    "rr"
   ]
  },
  {
   "cell_type": "code",
   "execution_count": null,
   "metadata": {},
   "outputs": [],
   "source": [
    "# import pickle\n",
    "\n",
    "# with open('poigdf_obj.pickle','wb') as handle:\n",
    "#     pickle.dump(poigdf_obj,handle,protocol=pickle.HIGHEST_PROTOCOL)\n",
    "\n",
    "# with open('activitymapper_obj.pickle','wb') as handle:\n",
    "#     pickle.dump(activitymapper_obj,handle,protocol=pickle.HIGHEST_PROTOCOL)\n",
    "\n",
    "# with open('gravitymodel.pickle','wb') as handle:\n",
    "#     pickle.dump(gravitymodel,handle,protocol=pickle.HIGHEST_PROTOCOL)\n"
   ]
  },
  {
   "cell_type": "code",
   "execution_count": null,
   "metadata": {},
   "outputs": [],
   "source": [
    "rrr"
   ]
  },
  {
   "cell_type": "code",
   "execution_count": null,
   "metadata": {},
   "outputs": [],
   "source": [
    "def find_activity_for_each_point(data:pd.DataFrame):\n",
    "    find_highest_activity = lambda x:sorted([(i,j) for i,j in x.to_dict().items()],key=lambda y:y[1],reverse=True)[0][0]\n",
    "    attach_latitude = lambda x:x['Stop Point'].y\n",
    "    attach_longitude = lambda x:x['Stop Point'].x\n",
    "    activity_df = data[['Stop Point']]\n",
    "    activity_probs = data[[i for i in data.columns if i != 'Stop Point']]\n",
    "    activity_df['Activity at Point'] = activity_probs.apply(find_highest_activity,axis = 1)\n",
    "    activity_df['Stop Point Latitude'] = activity_df.apply(attach_latitude,axis = 1)\n",
    "    activity_df['Stop Point Longitude'] = activity_df.apply(attach_longitude,axis = 1)\n",
    "    return activity_df\n",
    "\n",
    "activity_df = find_activity_for_each_point(results)\n",
    "activity_df = activity_df.merge(poigdf[['Stop Point','Time Spent at Stop Point','Stop Point Latitude','Stop Point Longitude']],how = 'left',on = ['Stop Point Latitude','Stop Point Longitude'],suffixes=('','_y'))\n",
    "activity_df.drop(labels = activity_df.filter(regex=r\"_y$\").columns,axis = 1,inplace = True)\n",
    "activity_df.drop_duplicates(subset=['Stop Point Latitude','Stop Point Longitude'],inplace = True)"
   ]
  },
  {
   "cell_type": "code",
   "execution_count": null,
   "metadata": {},
   "outputs": [],
   "source": [
    "activity_df['Time Spent at Stop Point (minutes)'] = activity_df['Time Spent at Stop Point']/60"
   ]
  },
  {
   "cell_type": "code",
   "execution_count": null,
   "metadata": {},
   "outputs": [],
   "source": [
    "def calculate_counts_for_each_activity(df):\n",
    "    counts_df = pd.DataFrame(data = {'Activity Type':df['Activity at Point'].unique().tolist()})\n",
    "    counts_df['Counts'] = np.nan\n",
    "    for k,grp in df.groupby('Activity at Point'):\n",
    "        counts_df.loc[counts_df['Activity Type'] == k,'Counts'] = grp.shape[0]\n",
    "    return counts_df\n",
    "\n",
    "counts_df = calculate_counts_for_each_activity(activity_df)"
   ]
  },
  {
   "cell_type": "markdown",
   "metadata": {},
   "source": [
    "Boxplot for time spent at an activity"
   ]
  },
  {
   "cell_type": "code",
   "execution_count": null,
   "metadata": {},
   "outputs": [],
   "source": [
    "counts_df"
   ]
  },
  {
   "cell_type": "code",
   "execution_count": null,
   "metadata": {},
   "outputs": [],
   "source": [
    "fig,ax = plt.subplots(2,1,figsize = (20,15))\n",
    "sns.boxplot(data=activity_df,x = 'Activity at Point',y = 'Time Spent at Stop Point (minutes)',ax = ax[0])\n",
    "sns.lineplot(data = counts_df,x = 'Activity Type',y = 'Counts',ax = ax[1])\n",
    "ax[0].set_xticklabels(rotation = 90,labels=activity_df['Activity at Point'].unique().tolist())\n",
    "ax[1].set_xticklabels(rotation = 90,labels=activity_df['Activity at Point'].unique().tolist())\n",
    "ax[0].yaxis.set_ticks(np.arange(0,activity_df['Time Spent at Stop Point (minutes)'].max(),step = 50))\n",
    "ax[1].yaxis.set_ticks(np.arange(0,counts_df['Counts'].max(),step = 5))\n",
    "fig.tight_layout()"
   ]
  },
  {
   "cell_type": "code",
   "execution_count": null,
   "metadata": {},
   "outputs": [],
   "source": [
    "df_uuid = uuid_collection_obj.uuid_collection[112102].parent_trajectory_with_stop_labels['2023-01-14']\n",
    "df_uuid.reset_index()"
   ]
  },
  {
   "cell_type": "code",
   "execution_count": null,
   "metadata": {},
   "outputs": [],
   "source": [
    "stop_collection_obj.filtered_stops"
   ]
  },
  {
   "cell_type": "code",
   "execution_count": null,
   "metadata": {},
   "outputs": [],
   "source": [
    "poigdf"
   ]
  },
  {
   "cell_type": "code",
   "execution_count": null,
   "metadata": {},
   "outputs": [],
   "source": [
    "def make_boxplot(data):\n",
    "    fig,ax = plt.subplots(1,1,figsize = (20,10))\n",
    "    melt_df = pd.melt(results,id_vars=['Stop Point'],value_vars=[i for i in results.columns if i != 'Stop Point'],var_name = 'Activity Type',value_name='Activity Probability')\n",
    "    sns.boxplot(data = melt_df,x = 'Activity Type',y = 'Activity Probability',ax = ax)\n",
    "    ax.set_xticklabels(labels = melt_df['Activity Type'].unique(),rotation = 90)\n",
    "make_boxplot(results)\n",
    "    "
   ]
  },
  {
   "cell_type": "code",
   "execution_count": null,
   "metadata": {},
   "outputs": [],
   "source": [
    "results"
   ]
  },
  {
   "cell_type": "markdown",
   "metadata": {},
   "source": [
    "Checking the Number of places of each activity type"
   ]
  },
  {
   "cell_type": "code",
   "execution_count": null,
   "metadata": {},
   "outputs": [],
   "source": [
    "results_counts = results[[i for i in results.columns if i != 'Stop Point']]\n",
    "results_counts.mask(results_counts != 0,other=1,inplace=True)\n",
    "counts_of_activity_places = results_counts.sum(axis = 0).to_dict()"
   ]
  },
  {
   "cell_type": "code",
   "execution_count": null,
   "metadata": {},
   "outputs": [],
   "source": [
    "# results_normalized = \n",
    "place_counts = np.array([j for i,j in counts_of_activity_places.items()])"
   ]
  },
  {
   "cell_type": "code",
   "execution_count": null,
   "metadata": {},
   "outputs": [],
   "source": [
    "results_normalized =  results[[i for i in results.columns if i != 'Stop Point']].to_numpy()/place_counts\n",
    "results[[i for i in results.columns if i != 'Stop Point']] = results_normalized"
   ]
  },
  {
   "cell_type": "code",
   "execution_count": null,
   "metadata": {},
   "outputs": [],
   "source": [
    "make_boxplot(results)"
   ]
  },
  {
   "cell_type": "code",
   "execution_count": null,
   "metadata": {},
   "outputs": [],
   "source": [
    "ax.get_legend_handles"
   ]
  },
  {
   "cell_type": "code",
   "execution_count": null,
   "metadata": {},
   "outputs": [],
   "source": [
    "# from ast import literal_eval\n",
    "# poi_type_list = pd.read_csv(r\"D:\\MSc\\MSBD 5014\\FindingPointsOfInterestFromGPS\\helper\\POITypes.csv\")['POI Type'].tolist()\n",
    "# activity_types = pd.read_csv(r\"D:\\MSc\\MSBD 5014\\FindingPointsOfInterestFromGPS\\helper\\POITypes.csv\")['Activity'].tolist()\n",
    "# poi_type_activity_dict = dict(zip(poi_type_list,activity_types))\n",
    "# reset_types = lambda x: str([i for i in literal_eval(x) if i in poi_type_list])\n",
    "# POIgdf['POI Type'] = POIgdf['POI Type'].apply(reset_types)\n",
    "# POIgdf = POIgdf.loc[POIgdf['POI Type'] != '[]']\n",
    "# # literal_eval(POIgdf['POI Type'][0])"
   ]
  },
  {
   "cell_type": "code",
   "execution_count": null,
   "metadata": {},
   "outputs": [],
   "source": [
    "# find_activity = lambda x : str(list(set(poi_type_activity_dict[i] for i in literal_eval(x))))\n",
    "\n",
    "# POIgdf['Activity Types'] = np.nan\n",
    "# POIgdf['Activity Types'] = POIgdf['POI Type'].apply(find_activity)"
   ]
  },
  {
   "cell_type": "code",
   "execution_count": null,
   "metadata": {},
   "outputs": [],
   "source": [
    "# POIgdf['Stop Point Latitude'] = POIgdf['Stop Point'].apply(lambda x: x.y)\n",
    "# POIgdf['Stop Point Longitude'] = POIgdf['Stop Point'].apply(lambda x: x.x)"
   ]
  },
  {
   "cell_type": "code",
   "execution_count": null,
   "metadata": {},
   "outputs": [],
   "source": [
    "# from collections import Counter\n",
    "# cols = ['Stop Point']\n",
    "# cols.extend(list(set(activity_types)))\n",
    "# activity_df_dict = {k:[] for k in cols}\n",
    "# for k,grp in POIgdf.groupby(['Stop Point Latitude','Stop Point Longitude']):\n",
    "#     activity_df_dict['Stop Point'].append(k)\n",
    "#     activity_list = map(lambda x: literal_eval(x),grp['Activity Types'])\n",
    "#     flat_activity_list = [activity for sublist in activity_list for activity in sublist]\n",
    "#     count_dict = dict(Counter(flat_activity_list))\n",
    "#     for activity in list(set(activity_types)):\n",
    "#         if activity in count_dict.keys():\n",
    "#             activity_df_dict[activity].append(count_dict[activity])\n",
    "#         else:\n",
    "#             activity_df_dict[activity].append(0)"
   ]
  }
 ],
 "metadata": {
  "kernelspec": {
   "display_name": "Python 3",
   "language": "python",
   "name": "python3"
  },
  "language_info": {
   "codemirror_mode": {
    "name": "ipython",
    "version": 3
   },
   "file_extension": ".py",
   "mimetype": "text/x-python",
   "name": "python",
   "nbconvert_exporter": "python",
   "pygments_lexer": "ipython3",
   "version": "3.8.8"
  },
  "orig_nbformat": 4
 },
 "nbformat": 4,
 "nbformat_minor": 2
}
